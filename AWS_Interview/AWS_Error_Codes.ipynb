{
  "nbformat": 4,
  "nbformat_minor": 0,
  "metadata": {
    "colab": {
      "name": "Untitled7.ipynb",
      "provenance": [],
      "authorship_tag": "ABX9TyMagAMsPUswMswWQb0hy2+8",
      "include_colab_link": true
    },
    "kernelspec": {
      "name": "python3",
      "display_name": "Python 3"
    },
    "language_info": {
      "name": "python"
    }
  },
  "cells": [
    {
      "cell_type": "markdown",
      "metadata": {
        "id": "view-in-github",
        "colab_type": "text"
      },
      "source": [
        "<a href=\"https://colab.research.google.com/github/Sai-Kale/AWS_LEARNING/blob/master/AWS_Interview/AWS_Error_Codes.ipynb\" target=\"_parent\"><img src=\"https://colab.research.google.com/assets/colab-badge.svg\" alt=\"Open In Colab\"/></a>"
      ]
    },
    {
      "cell_type": "markdown",
      "metadata": {
        "id": "KY3lLOKSRnJI"
      },
      "source": [
        "# **AWS Error Codes:**\n",
        "\n",
        "**- 4XX - Client Side Errors.**\n",
        "\n",
        "* 400 - Bad Request. Ex: Req. Header is Malformed.\n",
        "* 401 - User Access Denied (No Access to User)\n",
        "* 403 - Request is Fordbidden (Blocked by WAF)\n",
        "* 460 - Client has closed before LB response. (Time out period is less)\n",
        "* 463 - LB recived an X-Forward-or request header with > 30 IP address (Similar to 400. \n",
        "\n",
        "**- 5XX - Server Side Errors.**\n",
        "\n",
        "* 500 - Internal Server Error. (Configured incorrectly ELB)\n",
        "* 502 - Bad Gateway Ex: App server closed the connection.\n",
        "* 503 - Service Unavailable - No registered targets (Web server not available)\n",
        "* 504 - Gateway Timeout (Not responding issue with ALB, Web Server, App Server or DB)\n",
        "* 561 - UnAuhtorized - Receive an error code from ID provider when trying to authenticate (Ex: Gmail, FB)\n",
        "\n",
        "ELB publish metric to Cloud Watch Access Logs.\n"
      ]
    }
  ]
}