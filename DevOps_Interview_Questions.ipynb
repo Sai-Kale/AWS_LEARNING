{
  "nbformat": 4,
  "nbformat_minor": 0,
  "metadata": {
    "colab": {
      "name": "Untitled10.ipynb",
      "provenance": [],
      "authorship_tag": "ABX9TyOsM9oCag0Z1KtIqdpBQ5JQ",
      "include_colab_link": true
    },
    "kernelspec": {
      "name": "python3",
      "display_name": "Python 3"
    },
    "language_info": {
      "name": "python"
    }
  },
  "cells": [
    {
      "cell_type": "markdown",
      "metadata": {
        "id": "view-in-github",
        "colab_type": "text"
      },
      "source": [
        "<a href=\"https://colab.research.google.com/github/Sai-Kale/AWS_LEARNING/blob/master/DevOps_Interview_Questions.ipynb\" target=\"_parent\"><img src=\"https://colab.research.google.com/assets/colab-badge.svg\" alt=\"Open In Colab\"/></a>"
      ]
    },
    {
      "cell_type": "markdown",
      "metadata": {
        "id": "uQXqDHmCLT2k"
      },
      "source": [
        "DevOps Interview Questions Experience:\n",
        "\n",
        "\n",
        "Unix/Linux:\n",
        "\n",
        "1. What is a inode ?\n",
        "    \n",
        "    An inode is a data structure that stores various information about a file in Linux, such as the access mode (read, write, execute permissions), ownership, file type, file size, group, number of links, etc. Each inode is identified by an integer number. An inode is assigned to a file when it is created.\n",
        "    \n",
        "    saikumar@TECH-LP-1141:~$ ls -i\n",
        "\n",
        "      **40553** ML    \n",
        "\n",
        "      it stores the below details.\n",
        "         stat ML\n",
        "        File: ML\n",
        "        Size: 4096            Blocks: 8          IO Block: 4096   directory\n",
        "        Device: 810h/2064d      Inode: 40553       Links: 7\n",
        "        Access: (0755/drwxr-xr-x)  Uid: ( 1000/saikumar)   Gid: ( 1000/saikumar)\n",
        "        Access: 2021-08-03 02:07:46.091686700 +0530\n",
        "        Modify: 2021-08-03 02:07:40.621686700 +0530\n",
        "        Change: 2021-08-03 02:07:40.621686700 +0530\n",
        "        Birth: - \n",
        "- An Disk might throw error/full even though their is space if it runs out of inodes. Because creation of each file requires an inode. This might occur if theres are lot of small files in kb's. \n",
        "- inodes are created by default by the files system when it get created while installing the OS.\n",
        "\n",
        "\n",
        "Command to check is below. \n",
        "\n",
        "        **df -hi**\n",
        "      Filesystem     Inodes IUsed IFree IUse% Mounted on\n",
        "      /dev/sdb          16M  196K   16M    2% /\n",
        "      tmpfs            1.6M     1  1.6M    1% /mnt/wsl\n",
        "      tools             999 -976K  977K     - /init\n",
        "      none             1.6M   140  1.6M    1% /dev\n",
        "      none             1.6M     9  1.6M    1% /run\n",
        "      none             1.6M     1  1.6M    1% /run/lock\n",
        "\n",
        "      "
      ]
    },
    {
      "cell_type": "markdown",
      "metadata": {
        "id": "MvU4Jfg0dveZ"
      },
      "source": [
        "What is an LVM ?\n",
        "\n"
      ]
    }
  ]
}